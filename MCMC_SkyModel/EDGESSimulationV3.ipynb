{
 "cells": [
  {
   "cell_type": "markdown",
   "id": "c8bf9d36-f3f2-4aed-886a-48f92ab9c120",
   "metadata": {},
   "source": [
    "<center><h1>Markov Chain Monte Carlo (Metropolis-Hastings) Parameter Estimation for Sky Temperature Model</h1></center>\n"
   ]
  },
  {
   "cell_type": "markdown",
   "id": "207f876a-a348-48ec-93c5-b0f931c41862",
   "metadata": {},
   "source": [
    "\n",
    "\n",
    "\n",
    "\n",
    "<center><h3>By: Jorge Cárdenas</h3></center>\n",
    "\n",
    "<center><h5>University of Antioquia, MSc in Physics</h5></center>\n"
   ]
  },
  {
   "cell_type": "markdown",
   "id": "aa2876d3-e2bc-47e3-b913-562a79c4db90",
   "metadata": {},
   "source": [
    "\n",
    "\n"
   ]
  },
  {
   "cell_type": "markdown",
   "id": "044a15e3-eb0a-4ff2-a25a-e83d9cf02845",
   "metadata": {
    "tags": []
   },
   "source": [
    "<center><img src=\"images/Edges_antenna.jpeg\" width=\"400\" height=\"200\"></center>\n",
    "\n"
   ]
  },
  {
   "cell_type": "code",
   "execution_count": null,
   "id": "e9c86688-39db-44d3-be77-b965fa36153d",
   "metadata": {},
   "outputs": [],
   "source": [
    "from mc_sim.imports import *\n",
    "import mc_sim.models as models\n",
    "import mc_sim.MCMC as MCMC\n",
    "\n",
    "import pylab as pl\n",
    "%matplotlib inline"
   ]
  },
  {
   "cell_type": "markdown",
   "id": "f10158bf-c2d8-4d36-8dad-cbbe99a566e6",
   "metadata": {},
   "source": [
    "\n",
    "### ***1. Loading Data***\n",
    "<a id='section1'></a>\n",
    "\n",
    "<p style=\"font-family:verdana;color:#34495E;font-size:0.9em;\">We have been provided with a dataframe, which has information about the behaviour of Sky signal temperature vs. the Frequency.</p>\n",
    "\n",
    "<p style=\"font-family:verdana;color:#34495E;font-size:0.9em;\">We are going to use that information as the source of truth for parameter estimation during the execution of the Markov-Chain Monte Carlo algorithm</p>\n",
    "\n"
   ]
  },
  {
   "cell_type": "code",
   "execution_count": null,
   "id": "7d1b2d9d-e2b6-4465-b9a4-7cebcdc83b81",
   "metadata": {},
   "outputs": [],
   "source": [
    "#Constants\n",
    "sigma_parameter=0.024\n",
    "column_names=['v','t_sky']\n",
    "freq_central=75\n",
    "\n",
    "#Parameters required for metropolis algorithm\n",
    "\n",
    "num_walkers=20\n",
    "num_samples=40000\n",
    "burn_sample=1000\n",
    "test_to_run =\"test_30\"#used to name saved data  \n",
    "#np.random.seed(1)"
   ]
  },
  {
   "cell_type": "markdown",
   "id": "ef2ecfd4-8457-4a07-a191-770b0f238586",
   "metadata": {},
   "source": [
    "#### ***1.1 Modules***\n",
    "<a id='section1'></a>\n",
    "\n",
    "<p style=\"font-family:verdana;color:#34495E;font-size:0.9em;\">Two main modules have been developed.</p>\n",
    "\n",
    "<p style=\"font-family:verdana;color:#34495E;font-size:0.9em;\">\n",
    "    <span style=\"color:red;\" >Sky_model</span> , contains all methods required to calculate and set model parameters.</p>\n",
    "<p style=\"font-family:verdana;color:#34495E;font-size:0.9em;\">\n",
    "    <span style=\"color:red;\" >MCMC</span>, contains all methods for Monte Carlo Metropolis-hastings.</p>\n"
   ]
  },
  {
   "cell_type": "code",
   "execution_count": null,
   "id": "1a5ba957-0ea0-4b6c-909e-0f3a403e635f",
   "metadata": {},
   "outputs": [],
   "source": [
    "sky_model=models.Sky_model()\n",
    "parameters=sky_model.init_params()\n",
    "Metropolis = MCMC.MCMC()"
   ]
  },
  {
   "cell_type": "markdown",
   "id": "e1436dfa-3559-4e8e-bbe5-07ac798fbbb2",
   "metadata": {},
   "source": [
    "#### ***1.2 Model with experimetal data***\n",
    "<a id='section1'></a>\n",
    "\n",
    "<p style=\"font-family:verdana;color:#34495E;font-size:0.9em;\">We have been given a dataset, carrying información Brightness Temperature. This information will become our value of truth we are going to compare againts during MCMC iterations</p>\n"
   ]
  },
  {
   "cell_type": "code",
   "execution_count": null,
   "id": "84b694d6-ad8d-4e22-a593-f02064d12c44",
   "metadata": {},
   "outputs": [],
   "source": [
    "\n",
    "t_sky_data= sky_model.load_data()\n",
    "palette = sns.color_palette(\"mako_r\", 6)\n",
    "\n",
    "fig = sns.lineplot(data=t_sky_data, x=\"Freq\", y=\"t_sky\",palette=palette)\n",
    "\n",
    "fig.axes.set_title(\"Model Evaluation\",fontsize=15)\n",
    "fig.set_xlabel(\"Freq [MHz]\",fontsize=15)\n",
    "fig.set_ylabel(\"T_sky [K]\",fontsize=15)\n",
    "fig.tick_params(labelsize=9)\n",
    "\n"
   ]
  },
  {
   "cell_type": "markdown",
   "id": "93e9ddb4-9427-48c4-acd2-b4c29aa7e57b",
   "metadata": {},
   "source": [
    "<a id='section2' ></a>\n",
    "## ***2. Model***\n",
    "\n",
    "\n",
    "<p style=\"font-family:verdana;color:#34495E;font-size:0.9em;\">\n",
    "The model for this projects, is intended to describe the behaviour of bright temperature of sky, accorging to,</p>\n",
    "\n"
   ]
  },
  {
   "cell_type": "markdown",
   "id": "7262c3d7-398e-4147-a2e2-88d09f330dc3",
   "metadata": {},
   "source": [
    "<img src=\"images/equation.png\" width=\"500\" height=\"200\">\n",
    "\n",
    "<p style=\"font-family:verdana;color:#34495E;font-size:0.9em;\">\n",
    "This model is derived from a model proposed by EDGES, where TBg represents cosmic background radiation, T21 is atmospheric absortion, and TFg is the first plane radiation. τion is the ionosphere opacity and Te is the electron temperature of the ionoshpere weighted by the opacity τ.</p>\n",
    "<p style=\"font-family:verdana;color:#34495E;font-size:0.9em;\">\n",
    "That initial description is modified to get the model presented, which contains the following parameters.</p>\n",
    "\n",
    "<table>\n",
    "<thead>\n",
    "<tr class=\"header\">\n",
    "<th style=\"text-align: left;width: 15%;\">Param</th>\n",
    "<th style=\"text-align: left;width: 15%;\">Priori</th>\n",
    "<th style=\"text-align: left;width: 15%;\">Description</th>\n",
    "</tr>\n",
    "</thead>\n",
    "<tbody>\n",
    "<tr class=\"odd\">\n",
    "<td style=\"text-align: left; width: 15%;\"><span class=\"math inline\">\\(b_0\\)</span></td>\n",
    "<td style=\"text-align: left; width: 15%;\"><span class=\"math inline\">\\(1700&lt;b_3&lt;1760\\)</span></td>\n",
    "<td style=\"text-align: left;width: 15%;\">Temperatura en primer plano a una frecuencia <span class=\"math inline\">\\(\\nu_c\\)</span></td>\n",
    "</tr>\n",
    "<tr class=\"even\">\n",
    "<td style=\"text-align: left;width: 15%;\"><span class=\"math inline\">\\(b_1\\)</span></td>\n",
    "<td style=\"text-align: left;width: 15%;\"><span class=\"math inline\">\\(-0.1&lt;b_1&lt;-0.07\\)</span></td>\n",
    "<td style=\"text-align: left;width: 15%;\">Corrección del indice espectral</td>\n",
    "</tr>\n",
    "<tr class=\"odd\">\n",
    "<td style=\"text-align: left;width: 15%;\"><span class=\"math inline\">\\(b_2\\)</span></td>\n",
    "<td style=\"text-align: left;width: 15%;\"><span class=\"math inline\">\\(-0.1&lt;b_2&lt;0.011\\)</span></td>\n",
    "<td style=\"text-align: left;width: 15%;\">Constribución de orden superior</td>\n",
    "</tr>\n",
    "<tr class=\"even\">\n",
    "<td style=\"text-align: left;width: 15%;\"><span class=\"math inline\">\\(b_3\\equiv\\tau_{0}\\)</span></td>\n",
    "<td style=\"text-align: left;width: 15%;\"><span class=\"math inline\">\\(0.001&lt;b_3&lt;0.2\\)</span></td>\n",
    "<td style=\"text-align: left;width: 15%;\">Opacidad de la ionósfera</td>\n",
    "</tr>\n",
    "<tr class=\"odd\">\n",
    "<td style=\"text-align: left;width: 15%;\"><span class=\"math inline\">\\(T_e\\)</span></td>\n",
    "<td style=\"text-align: left;width: 15%;\"><span class=\"math inline\">\\(200&lt;T_e&lt;2000\\)</span></td>\n",
    "<td style=\"text-align: left;width: 15%;\">Temperatura de los electrones ponderada por la opacidad en la ionósfera.</td>\n",
    "</tr>\n",
    "</tbody>\n",
    "</table>\n",
    "\n",
    "____\n"
   ]
  },
  {
   "cell_type": "markdown",
   "id": "b1f88806-9866-4010-a594-9854fc71a82e",
   "metadata": {},
   "source": [
    "<a id='section2' ></a>\n",
    "#### ***2.1 Model Evaluation***\n",
    "\n",
    "\n",
    "<p style=\"font-family:verdana;color:#34495E;font-size:0.9em;\">\n",
    "Here we evaluate the full model using some manualy introduced parameters to test the calculations are working properly.</p>"
   ]
  },
  {
   "cell_type": "code",
   "execution_count": null,
   "id": "e46b4a94-4cac-4a83-9b76-0ddd97c068d8",
   "metadata": {},
   "outputs": [],
   "source": [
    "\n",
    "evaluated_model = sky_model.t_sky_model_full(parameters,t_sky_data.Freq,freq_central=freq_central)\n",
    "\n",
    "\"\"\"Plot Evaluated Model\"\"\"\n",
    "pl.rcParams['figure.figsize'] = (5.0, 5.0)\n",
    "pl.plot(t_sky_data.Freq,evaluated_model, label=\"Evaluated\",color='orange')\n",
    "pl.scatter(t_sky_data.Freq,t_sky_data.t_sky, label=\"Data\")\n",
    "pl.legend()\n",
    "pl.show()\n"
   ]
  },
  {
   "cell_type": "markdown",
   "id": "b2cdb20c-026b-4a8b-8fa7-92c2a3f93ff6",
   "metadata": {},
   "source": [
    "\n"
   ]
  },
  {
   "cell_type": "markdown",
   "id": "457d017d-9037-4c88-bb33-91d845f63c8d",
   "metadata": {},
   "source": [
    "## **3. Parameter estimation**\n",
    "\n"
   ]
  },
  {
   "cell_type": "markdown",
   "id": "6b56b81d-9bd1-4720-98e1-b5d3e1953b96",
   "metadata": {},
   "source": [
    "#### ***3.1 Metropolis-Hastings MCMC***\n",
    "\n",
    "<p style=\"font-family:verdana;color:#34495E;font-size:0.9em;\">In the next figure, you cand find the flor diagram for the most general algorithm applied in our case. At the heart of this process lies the acceptance algorithm which is using the fitness of every sample used during the iteratin process and compares to a uniform sample between 0 and 1, just like the theory requires for metropolis-hastings algorithm.</p>\n",
    "\n",
    "\n",
    "<center><img src=\"images/flow.jpg\" width=\"700\" height=\"200\"></center>\n"
   ]
  },
  {
   "cell_type": "markdown",
   "id": "fda7e6fa-7239-44a8-b7bb-e557812a8f7f",
   "metadata": {},
   "source": [
    "#### ***3.2 Fitness Evaluation***\n",
    "\n",
    "\n",
    "<p style=\"font-family:verdana;color:#34495E;font-size:0.9em;\">In mathematical notation, the correct likelihood function is:</p>\n",
    "\n",
    "$$\n",
    "    \\ln\\,p(y\\,|\\,x,\\sigma,m,b,f) =\n",
    "    -\\frac{1}{2} \\sum_n \\left[\n",
    "        \\frac{(y_n-y_{sky})^2}{s_n^2}\n",
    "        + \\ln \\left ( 2\\pi\\,s_n^2 \\right )\n",
    "    \\right]\n",
    "$$\n",
    "\n",
    "<p style=\"font-family:verdana;color:#34495E;font-size:0.9em;\">Where</p>\n",
    "\n",
    "\n",
    "$$\n",
    "    s_n^2 = \\sigma_n^2+error \\quad.\n",
    "$$\n",
    "<p style=\"font-family:verdana;color:#34495E;font-size:0.9em;\">The added error, is taken from a gaussian distribution between 0 and 1, so we can have a sigma oscillating around 0.024</p>\n",
    "\n"
   ]
  },
  {
   "cell_type": "code",
   "execution_count": null,
   "id": "47f61c80-29db-42dd-aba6-874899832598",
   "metadata": {},
   "outputs": [],
   "source": [
    "\n",
    "#Select initial values for parameters\n",
    "\n",
    "initial_point = Metropolis.gaussian_sample(parameters,1)\n",
    "\n",
    "def model_evaluation(theta,v):\n",
    "    return sky_model.EVAL_t_sky_model_full(theta,v,freq_central=75)\n",
    "   \n",
    "\n",
    "def evaluateLogLikelihood(theta,v,y,sigma):\n",
    "    log_likelihood = 0\n",
    "    yerr = 0.02 + 0.05 * np.random.uniform(0,1,1) #to consider an error in sigma calculation\n",
    "    sn2 = yerr[0] ** 2\n",
    "    #sn2=sigma**2  #this is used as the study case requires it this way\n",
    "                    #Next step is to count sigma squared as a parameter to be tested as well\n",
    "\n",
    "    evaluated_model = model_evaluation(theta,v)\n",
    "\n",
    "    log_likelihood = ((-((1/(2*sn2))*sum(np.square(y-evaluated_model))) - (0.5*len(y)*np.log(2*np.pi*sn2))))\n",
    "\n",
    "    return log_likelihood\n",
    "\n",
    "\n",
    "#Running Metropolis algorithm\n",
    "result,dataframe = Metropolis.MH(sky_model,\n",
    "                                 parameters,\n",
    "                                 t_sky_data,\n",
    "                                 sigma_parameter,\n",
    "                                 evaluateLogLikelihood,\n",
    "                                 initial_point,\n",
    "                                 num_walkers,\n",
    "                                 num_samples,\n",
    "                                 burn_sample)\n",
    "#Markov Chain Thining\n",
    "total_stack = Metropolis.thining(dataframe,num_samples )\n",
    "\n"
   ]
  },
  {
   "cell_type": "code",
   "execution_count": null,
   "id": "af31e03d-ce51-4340-9574-3b3b55e84433",
   "metadata": {},
   "outputs": [],
   "source": [
    "total_stack = Metropolis.thining(dataframe,num_samples )\n"
   ]
  },
  {
   "cell_type": "markdown",
   "id": "f21a5011-07ee-4dba-a8a4-6a6c98d472ee",
   "metadata": {},
   "source": [
    "##### ***3.1.1 Estimated values***\n"
   ]
  },
  {
   "cell_type": "code",
   "execution_count": null,
   "id": "1c4de5f7-6416-4ca8-a42e-6fff3c68671f",
   "metadata": {},
   "outputs": [],
   "source": [
    "print(total_stack.describe().loc[['mean']])\n",
    "estimator=np.median(total_stack,axis=0)\n",
    "print(estimator)"
   ]
  },
  {
   "cell_type": "markdown",
   "id": "fad6bfcb-6fc3-412a-be89-fd9f4b03b41e",
   "metadata": {},
   "source": [
    "#### ***3.3 Saving Results***\n",
    "\n",
    "<p style=\"font-family:verdana;color:#34495E;font-size:0.9em;\">Here we save data from MCMC. There is a csv file with the whole information from every iteration.</p>\n",
    "<p style=\"font-family:verdana;color:#34495E;font-size:0.9em;\">You can see your results in the folder named by the <span style=\"font-weight:bold\">test_to_run</span> variable</p>"
   ]
  },
  {
   "cell_type": "code",
   "execution_count": null,
   "id": "bfa90a4a-d0e9-4951-a6b1-500494138c0e",
   "metadata": {},
   "outputs": [],
   "source": [
    "if not os.path.exists(test_to_run):\n",
    "    os.makedirs(test_to_run)\n",
    "\n",
    "sec = secrets.token_hex(nbytes=8)\n",
    "sns.set_theme()\n",
    "plt.figure();\n",
    "\n",
    "plot = sns.relplot(\n",
    "    data=total_stack[[\"iteration\",\"likelihood\",\"walker\",\"accepted\"]],kind=\"line\",\n",
    "    x=\"iteration\", y=\"likelihood\",\n",
    "    hue=\"accepted\",facet_kws=dict(sharex=False),\n",
    ")\n",
    "\n",
    "\"\"\"Saving Results\"\"\"\n",
    "plot.figure.savefig(test_to_run+\"/\"+str(sec)+\"_dash.png\") \n",
    "total_stack.to_csv(test_to_run+\"/\"+str(sec)+'.csv', index=False)\n"
   ]
  },
  {
   "cell_type": "markdown",
   "id": "c02b223b-86fe-43ae-806a-8f43331f6e15",
   "metadata": {},
   "source": [
    "## **4. Results**\n",
    "\n"
   ]
  },
  {
   "cell_type": "markdown",
   "id": "f46d6a86-b67f-40a5-bc5c-8f13ad5e8a76",
   "metadata": {},
   "source": [
    "<p style=\"font-family:verdana;color:#34495E;font-size:0.9em;\">Next step is to load data in order to analyze what we obtained from MCMC.</p>\n",
    "\n",
    "<p style=\"font-family:verdana;color:#34495E;font-size:0.9em;\">The Chain,the one containing the distirbution information after M-H algorithm, needs to be cleaned.</p>\n",
    "<p style=\"font-family:verdana;color:#34495E;font-size:0.9em;\"><li>There is a need to drop the earliest part of the sampling process, because is the one far from convergence.</li>\n",
    "<li>Thining of the chain, is the second process, and that is selecting just a part of the sampled data</li></p>\n"
   ]
  },
  {
   "cell_type": "code",
   "execution_count": null,
   "id": "afbf557f-bb19-4885-af75-3e5e32bd7e32",
   "metadata": {},
   "outputs": [],
   "source": [
    "total_stack= pd.read_csv(test_to_run+'/'+str(sec)+'.csv') \n"
   ]
  },
  {
   "cell_type": "markdown",
   "id": "2bc617dd-9c17-49e6-b736-b34e602a735b",
   "metadata": {
    "tags": []
   },
   "source": [
    "#### ***4.1 Distribution***\n",
    "\n",
    "<p style=\"font-family:verdana;color:#34495E;font-size:0.9em;\">Next, you can find the plots to show how the Markov Chain is presenting a distribution for every parameter. Also, there can be seen the correlation between every parameter.</p>\n"
   ]
  },
  {
   "cell_type": "code",
   "execution_count": null,
   "id": "55c01dd0-486c-4402-b4f5-b64e9f6f5da9",
   "metadata": {},
   "outputs": [],
   "source": [
    "\n",
    "total_stack = total_stack[['b0',\"b1\",\"b2\",\"b3\",\"Te\"]]\n",
    "\n",
    "fig= sns.pairplot(total_stack, kind=\"scatter\",diag_kws = {'alpha':0.8, 'bins':20})\n",
    "fig.savefig(test_to_run+'/pair_plot_Test9.png')"
   ]
  },
  {
   "cell_type": "code",
   "execution_count": null,
   "id": "a68ea091-718a-4da0-9839-a663a8daa7c9",
   "metadata": {},
   "outputs": [],
   "source": [
    "\n",
    "total_stack = total_stack[['b0',\"b1\",\"b2\",\"b3\",\"Te\"]]\n",
    "\n",
    "fig= sns.pairplot(total_stack, kind=\"kde\",diag_kws = {'alpha':0.8})\n",
    "fig.savefig(test_to_run+'/pair_plot_KDE_Test9.png')\n"
   ]
  },
  {
   "cell_type": "markdown",
   "id": "caad6656-a7ea-4e3d-82f2-e70c2829e9d7",
   "metadata": {},
   "source": [
    "#### ***4.1 Parameters***\n",
    "\n",
    "<p style=\"font-family:verdana;color:#34495E;font-size:0.9em;\">Finally, We can show every parameter individually. There is a clear distribution and mean values for every one of them.</p>\n",
    "\n",
    "<p style=\"font-family:verdana;color:#34495E;font-size:0.9em;\">As for the  <span style=\"color:red;\" >b0</span>  parameter, we find there is always a peak around 1750-1750 </p>\n",
    "\n",
    "<p style=\"font-family:verdana;color:#34495E;font-size:0.9em;\">The other parameter of big interest is  <span style=\"color:red;\" >Te</span> . Though the effect of Te on the whole function, is precisely what we are looking for: account for the slightest contribution to sky brightness, so we can be more sure about the disturbances of inosphere on signals. </p>\n"
   ]
  },
  {
   "cell_type": "code",
   "execution_count": null,
   "id": "7e8e0082-ef23-45f2-a35d-43317c26cc67",
   "metadata": {},
   "outputs": [],
   "source": [
    "total_stack= pd.read_csv(test_to_run+'/'+str(sec)+'.csv') \n",
    "\n",
    "fig, ax =plt.subplots(1,2)\n",
    "fig.set_size_inches(15, 5)\n",
    "\n",
    "\n",
    "#plt.figure(figsize=(5,5))\n",
    "data = sns.kdeplot(total_stack.b0,shade=True,bw_method=0.2)\n",
    "iterations = sns.lineplot(data=total_stack[[\"b0\",\"iteration\"]], x=\"iteration\",y=\"b0\",sort=False,ax=ax[0])\n",
    "\n",
    "iterations.axes.set_title(\"_\",fontsize=15)\n",
    "iterations.set_xlabel(\"Iter. [step]\",fontsize=15)\n",
    "iterations.set_ylabel(\"b0\",fontsize=15)\n",
    "iterations.tick_params(labelsize=9)\n",
    "\n",
    "data.axes.set_title(\"PDF\",fontsize=15)\n",
    "data.set_xlabel(\"b0\",fontsize=15)\n",
    "data.set_ylabel(\"Density\",fontsize=15)\n",
    "data.tick_params(labelsize=9)\n",
    "\n",
    "plt.show()\n",
    "\n",
    "fig.savefig(test_to_run+'/distb0.png')"
   ]
  },
  {
   "cell_type": "code",
   "execution_count": null,
   "id": "a4b55375-c9b0-4a27-bdb0-3a0593f815b3",
   "metadata": {},
   "outputs": [],
   "source": [
    "fig, ax =plt.subplots(1,2)\n",
    "fig.set_size_inches(15, 5)\n",
    "\n",
    "\n",
    "#plt.figure(figsize=(5,5))\n",
    "data = sns.kdeplot(total_stack.b3,shade=True,bw_method=0.1)\n",
    "iterations = sns.lineplot(data=total_stack[[\"b3\",\"iteration\"]], x=\"iteration\",y=\"b3\",sort=False,ax=ax[0])\n",
    "\n",
    "iterations.axes.set_title(\"_\",fontsize=15)\n",
    "iterations.set_xlabel(\"Iteration [step]\",fontsize=15)\n",
    "iterations.set_ylabel(\"b3\",fontsize=15)\n",
    "iterations.tick_params(labelsize=9)\n",
    "\n",
    "data.axes.set_title(\"PDF\",fontsize=15)\n",
    "data.set_xlabel(\"b3\",fontsize=15)\n",
    "data.set_ylabel(\"Density\",fontsize=15)\n",
    "data.tick_params(labelsize=9)\n",
    "\n",
    "plt.show()\n",
    "fig.savefig(test_to_run+'/distb3.png')"
   ]
  },
  {
   "cell_type": "code",
   "execution_count": null,
   "id": "99199c37-f4d9-4a21-9773-b31026d52497",
   "metadata": {},
   "outputs": [],
   "source": [
    "\n",
    "fig, ax =plt.subplots(1,2)\n",
    "fig.set_size_inches(15, 5)\n",
    "\n",
    "\n",
    "#plt.figure(figsize=(5,5))\n",
    "data = sns.kdeplot(total_stack.Te,shade=True,bw_method=0.2)\n",
    "iterations = sns.lineplot(data=total_stack[[\"Te\",\"iteration\"]], x=\"iteration\",y=\"Te\",sort=False,ax=ax[0])\n",
    "\n",
    "iterations.axes.set_title(\"_\",fontsize=15)\n",
    "iterations.set_xlabel(\"Iter. [step]\",fontsize=15)\n",
    "iterations.set_ylabel(\"Te [K]\",fontsize=15)\n",
    "iterations.tick_params(labelsize=9)\n",
    "\n",
    "data.axes.set_title(\"PDF\",fontsize=15)\n",
    "data.set_xlabel(\"Te\",fontsize=15)\n",
    "data.set_ylabel(\"Density\",fontsize=15)\n",
    "data.tick_params(labelsize=9)\n",
    "\n",
    "plt.show()\n",
    "fig.savefig(test_to_run+'/Te.png')"
   ]
  },
  {
   "cell_type": "markdown",
   "id": "0e325878-fb90-49d1-b568-d94c3729cf6b",
   "metadata": {},
   "source": [
    "#### ***4.2 Testing the parameters***\n",
    "\n",
    "<p style=\"font-family:verdana;color:#34495E;font-size:0.9em;\">Our final step is to test the parameters, using them to calculate the model in the given range of frequencies we are working on. </p>\n",
    "\n",
    "<p style=\"font-family:verdana;color:#34495E;font-size:0.9em;\">As you can see, there is an important fit between the simulated results from the parameters we have found and the curve given at the beginning. </p>"
   ]
  },
  {
   "cell_type": "code",
   "execution_count": null,
   "id": "d840806f-4d4e-4af5-b2e6-53e8aeda3589",
   "metadata": {},
   "outputs": [],
   "source": [
    "theta_test = total_stack.describe().loc[['mean']]\n",
    "theta_test"
   ]
  },
  {
   "cell_type": "code",
   "execution_count": null,
   "id": "8f8bf244-9ea7-43ae-886c-eaf0af8a4dda",
   "metadata": {},
   "outputs": [],
   "source": [
    "\n",
    "theta_test=[theta_test[\"b0\"][\"mean\"],theta_test[\"b1\"][\"mean\"],theta_test[\"b2\"][\"mean\"], theta_test[\"b3\"][\"mean\"],theta_test[\"Te\"][\"mean\"]]\n",
    "\n",
    "evaluate_model_theta = sky_model.EVAL_t_sky_model_full(theta_test,\n",
    "                                                        t_sky_data.Freq,\n",
    "                                                        freq_central=freq_central)\n",
    "\n",
    "\"\"\"Plot Evaluated Model\"\"\"\n",
    "print(\"Theta from Sample =\" + str(theta_test))\n",
    "\n",
    "pl.rcParams['figure.figsize'] = (5.0, 5.0)\n",
    "pl.plot(t_sky_data.Freq,evaluate_model_theta, label=\"Evaluated\",color='orange')\n",
    "pl.scatter(t_sky_data.Freq,t_sky_data.t_sky, label=\"Data\")\n",
    "pl.legend()\n",
    "pl.show()"
   ]
  },
  {
   "cell_type": "code",
   "execution_count": null,
   "id": "49c66ad6-217e-484e-8d69-292f463934ea",
   "metadata": {},
   "outputs": [],
   "source": [
    "\n",
    "from matplotlib import pyplot\n",
    "fig= plot_acf(total_stack.b0,lags=1000)\n",
    "pyplot.show()\n",
    "fig.savefig(test_to_run+'/autocorrelation.png')"
   ]
  },
  {
   "cell_type": "markdown",
   "id": "6fc6fe63-e6a3-4068-b472-1e5d60bfd4c2",
   "metadata": {},
   "source": [
    "# **References**"
   ]
  },
  {
   "cell_type": "markdown",
   "id": "4976d851-a421-4402-9c09-ef7f3cb173c2",
   "metadata": {},
   "source": [
    "[1] Bowman, J. D., Rogers, A. E. E., Monsalve, R. A., Mozdzen, T. J., & Mahesh, N. (2018). figure1_plotdata.csv\n",
    "\n",
    "[2] Hills, R., Kulkarni, G., Meerburg, P. D., & Puchwein, E. (2018). Concerns about modelling of the EDGES data. Nature, 564(7736), E32–E34. https://doi.org/10.1038/s41586-018-0796-5\n",
    "\n",
    "[3] Bowman, J. D., Rogers, A. E. E., Monsalve, R. A., Mozdzen, T. J., & Mahesh, N. (2018). An absorption profile centred at 78 megahertz in the sky-averaged spectrum. Nature, 555(7694), 67–70. https://doi.org/10.1038/nature25792\n",
    "\n",
    "[4] Cowan, G. (1998). Statistical Data Analysis (1st ed.). Oxford University Press.\n",
    "\n",
    "[5] Thomas, C. D. (2018). Concerns about modelling of the EDGES data. Nature, 1–2. https://doi.org/https://doi.org/10.1038/s41586-018-0796-5"
   ]
  },
  {
   "cell_type": "code",
   "execution_count": null,
   "id": "8c5191ba-c63f-4968-a31a-0da5d0b20bcd",
   "metadata": {},
   "outputs": [],
   "source": []
  }
 ],
 "metadata": {
  "kernelspec": {
   "display_name": "Python 3",
   "language": "python",
   "name": "python3"
  },
  "language_info": {
   "codemirror_mode": {
    "name": "ipython",
    "version": 3
   },
   "file_extension": ".py",
   "mimetype": "text/x-python",
   "name": "python",
   "nbconvert_exporter": "python",
   "pygments_lexer": "ipython3",
   "version": "3.8.8"
  },
  "toc-autonumbering": false,
  "toc-showcode": true,
  "toc-showmarkdowntxt": false,
  "toc-showtags": true
 },
 "nbformat": 4,
 "nbformat_minor": 5
}
